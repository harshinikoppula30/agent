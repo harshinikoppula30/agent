{
  "nbformat": 4,
  "nbformat_minor": 0,
  "metadata": {
    "colab": {
      "provenance": [],
      "include_colab_link": true
    },
    "kernelspec": {
      "name": "python3",
      "display_name": "Python 3"
    },
    "language_info": {
      "name": "python"
    }
  },
  "cells": [
    {
      "cell_type": "markdown",
      "metadata": {
        "id": "view-in-github",
        "colab_type": "text"
      },
      "source": [
        "<a href=\"https://colab.research.google.com/github/harshinikoppula30/agent/blob/main/My_langgraph2.ipynb\" target=\"_parent\"><img src=\"https://colab.research.google.com/assets/colab-badge.svg\" alt=\"Open In Colab\"/></a>"
      ]
    },
    {
      "cell_type": "code",
      "source": [
        "!pip install -qU google_generativeai==0.8.5 google-ai-generativelanguage==0.6.15 \\\n",
        "langgraph langchain langchain-google-genai openai"
      ],
      "metadata": {
        "colab": {
          "base_uri": "https://localhost:8080/"
        },
        "id": "9HILybYUGH0k",
        "outputId": "26aac071-b12a-4063-d60c-1df558ade778"
      },
      "execution_count": null,
      "outputs": [
        {
          "output_type": "stream",
          "name": "stdout",
          "text": [
            "\u001b[2K     \u001b[90m━━━━━━━━━━━━━━━━━━━━━━━━━━━━━━━━━━━━━━━━\u001b[0m \u001b[32m43.7/43.7 kB\u001b[0m \u001b[31m2.3 MB/s\u001b[0m eta \u001b[36m0:00:00\u001b[0m\n",
            "\u001b[2K   \u001b[90m━━━━━━━━━━━━━━━━━━━━━━━━━━━━━━━━━━━━━━━━\u001b[0m \u001b[32m153.2/153.2 kB\u001b[0m \u001b[31m5.8 MB/s\u001b[0m eta \u001b[36m0:00:00\u001b[0m\n",
            "\u001b[2K   \u001b[90m━━━━━━━━━━━━━━━━━━━━━━━━━━━━━━━━━━━━━━━━\u001b[0m \u001b[32m42.0/42.0 kB\u001b[0m \u001b[31m2.5 MB/s\u001b[0m eta \u001b[36m0:00:00\u001b[0m\n",
            "\u001b[2K   \u001b[90m━━━━━━━━━━━━━━━━━━━━━━━━━━━━━━━━━━━━━━━━\u001b[0m \u001b[32m786.8/786.8 kB\u001b[0m \u001b[31m17.4 MB/s\u001b[0m eta \u001b[36m0:00:00\u001b[0m\n",
            "\u001b[2K   \u001b[90m━━━━━━━━━━━━━━━━━━━━━━━━━━━━━━━━━━━━━━━━\u001b[0m \u001b[32m43.9/43.9 kB\u001b[0m \u001b[31m1.9 MB/s\u001b[0m eta \u001b[36m0:00:00\u001b[0m\n",
            "\u001b[2K   \u001b[90m━━━━━━━━━━━━━━━━━━━━━━━━━━━━━━━━━━━━━━━━\u001b[0m \u001b[32m50.6/50.6 kB\u001b[0m \u001b[31m2.8 MB/s\u001b[0m eta \u001b[36m0:00:00\u001b[0m\n",
            "\u001b[2K   \u001b[90m━━━━━━━━━━━━━━━━━━━━━━━━━━━━━━━━━━━━━━━━\u001b[0m \u001b[32m216.5/216.5 kB\u001b[0m \u001b[31m14.2 MB/s\u001b[0m eta \u001b[36m0:00:00\u001b[0m\n",
            "\u001b[?25h"
          ]
        }
      ]
    },
    {
      "cell_type": "code",
      "source": [
        "import os\n",
        "import getpass\n",
        "\n",
        "# LangGraph imports\n",
        "from langgraph.graph import StateGraph, END\n",
        "\n",
        "# LangChain imports\n",
        "from langchain_google_genai import ChatGoogleGenerativeAI\n",
        "from langchain_core.messages import HumanMessage\n"
      ],
      "metadata": {
        "id": "NqFb8F5gJaO1"
      },
      "execution_count": null,
      "outputs": []
    },
    {
      "cell_type": "code",
      "source": [
        "os.environ['GOOGLE_API_KEY']=getpass.getpass(\"enter the api key\")"
      ],
      "metadata": {
        "colab": {
          "base_uri": "https://localhost:8080/"
        },
        "id": "QUxv3HlOLLO5",
        "outputId": "54d4b461-11aa-4086-c369-22a6148ccf54"
      },
      "execution_count": null,
      "outputs": [
        {
          "name": "stdout",
          "output_type": "stream",
          "text": [
            "enter the api key··········\n"
          ]
        }
      ]
    },
    {
      "cell_type": "code",
      "source": [
        " llm = ChatGoogleGenerativeAI(\n",
        "    model=\"gemini-1.5-flash-latest\",\n",
        "    temperature=0.2\n",
        ")"
      ],
      "metadata": {
        "id": "yXeSjYY_LYPZ"
      },
      "execution_count": null,
      "outputs": []
    },
    {
      "cell_type": "code",
      "source": [
        "def get_symptom(state:dict)->dict:\n",
        "  symptom=input(\"enter a symptom\")\n",
        "  state[\"symptom\"]=symptom\n",
        "  return state\n"
      ],
      "metadata": {
        "id": "UdqAkNhAPB_R"
      },
      "execution_count": null,
      "outputs": []
    },
    {
      "cell_type": "code",
      "source": [
        "def classify_symptom(state: dict) -> dict:\n",
        "    prompt = (\n",
        "        \"You are a helpful Medical Assistant. Classify the symptoms below into one of the categories:\\n\"\n",
        "        \"- General\\n\"\n",
        "        \"- Emergency\\n\"\n",
        "        \"- Mental Health\\n\"\n",
        "        f\"Symptom: {state['symptom']}\\n\"\n",
        "        \"Respond only with one word: General, Emergency, or Mental Health.\\n\"\n",
        "        \"#Example: input: I have fever, Output: General\"\n",
        "    )\n",
        "\n",
        "    response = llm.invoke([HumanMessage(content=prompt)])\n",
        "    category = response.content.strip()\n",
        "\n",
        "    print(f\"LLM classifies the symptom as: {category}\")  # debug\n",
        "\n",
        "    state[\"category\"] = category\n",
        "    return state\n"
      ],
      "metadata": {
        "id": "fAIp6V3Oydqa"
      },
      "execution_count": null,
      "outputs": []
    },
    {
      "cell_type": "code",
      "source": [
        "def symptom_router(state: dict) -> dict:\n",
        "    cat = state[\"category\"].lower()\n",
        "    if \"general\" in cat:\n",
        "        return \"general\"\n",
        "    elif \"emergency\" in cat:\n",
        "        return \"emergency\"\n",
        "    elif \"mental\" in cat:\n",
        "        return \"mental_health\"\n",
        "    else:\n",
        "        return \"general\"\n"
      ],
      "metadata": {
        "id": "p7qVWlLmzoiM"
      },
      "execution_count": null,
      "outputs": []
    },
    {
      "cell_type": "code",
      "source": [
        "def general_node(state: dict) -> dict:\n",
        "    state[\"answer\"] = f\"{state['symptom']} : seems general...\"\n",
        "    return state\n",
        "\n",
        "def emergency_node(state: dict) -> dict:\n",
        "    state[\"answer\"] = f\"{state['symptom']} : It is a Medical Emergency...\"\n",
        "    return state\n",
        "\n",
        "def mental_health_node(state: dict) -> dict:\n",
        "    state[\"answer\"] = f\"{state['symptom']} : seems like a mental health issue...\"\n",
        "    return state\n"
      ],
      "metadata": {
        "id": "yHrxexsZzqF9"
      },
      "execution_count": null,
      "outputs": []
    },
    {
      "cell_type": "code",
      "source": [
        "builder = StateGraph(dict)\n",
        "\n",
        "builder.set_entry_point(\"get_symptom\")\n",
        "builder.add_node(\"get_symptom\", get_symptom)\n",
        "builder.add_node(\"classify\", classify_symptom)\n",
        "builder.add_node(\"general\", general_node)\n",
        "builder.add_node(\"emergency\", emergency_node)\n",
        "builder.add_node(\"mental_health\", mental_health_node)\n",
        "\n",
        "builder.add_edge(\"get_symptom\", \"classify\")\n",
        "\n",
        "builder.add_conditional_edges(\"classify\", symptom_router, {\n",
        "    \"general\": \"general\",\n",
        "    \"emergency\": \"emergency\",\n",
        "    \"mental_health\": \"mental_health\"\n",
        "})\n",
        "\n",
        "builder.add_edge(\"general\", END)\n",
        "builder.add_edge(\"emergency\", END)\n",
        "builder.add_edge(\"mental_health\", END)\n"
      ],
      "metadata": {
        "colab": {
          "base_uri": "https://localhost:8080/"
        },
        "id": "hfUS_es3zs4P",
        "outputId": "0871d310-5e9e-4561-ed3f-fffa9cbfc982"
      },
      "execution_count": null,
      "outputs": [
        {
          "output_type": "execute_result",
          "data": {
            "text/plain": [
              "<langgraph.graph.state.StateGraph at 0x78a847dff790>"
            ]
          },
          "metadata": {},
          "execution_count": 9
        }
      ]
    },
    {
      "cell_type": "code",
      "source": [
        "graph = builder.compile()\n",
        "final_state = graph.invoke({})\n",
        "print(\"final Output\\n\")\n",
        "print(final_state[\"answer\"])\n"
      ],
      "metadata": {
        "colab": {
          "base_uri": "https://localhost:8080/"
        },
        "id": "ljUuCjvBzvPb",
        "outputId": "cd770c69-8ac8-45e3-f9b8-7ed4ad4a6eb5"
      },
      "execution_count": null,
      "outputs": [
        {
          "output_type": "stream",
          "name": "stdout",
          "text": [
            "enter a symptomheadache\n",
            "LLM classifies the symptom as: General\n",
            "final Output\n",
            "\n",
            "headache : seems general...\n"
          ]
        }
      ]
    }
  ]
}